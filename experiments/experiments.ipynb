{
 "cells": [
  {
   "cell_type": "code",
   "execution_count": 1,
   "metadata": {},
   "outputs": [],
   "source": [
    "import pandas as pd\n",
    "import numpy as np\n",
    "import os\n",
    "from pprint import pprint"
   ]
  },
  {
   "cell_type": "code",
   "execution_count": 2,
   "metadata": {},
   "outputs": [
    {
     "data": {
      "text/plain": [
       "(1601, 4)"
      ]
     },
     "execution_count": 2,
     "metadata": {},
     "output_type": "execute_result"
    }
   ],
   "source": [
    "data_file_path = os.path.join('..', 'data', 'ukrainian_poems.json.gz')\n",
    "data = pd.read_json(data_file_path, lines=True, encoding='utf-8')\n",
    "data.shape"
   ]
  },
  {
   "cell_type": "code",
   "execution_count": 3,
   "metadata": {},
   "outputs": [
    {
     "data": {
      "text/plain": [
       "<AxesSubplot:>"
      ]
     },
     "execution_count": 3,
     "metadata": {},
     "output_type": "execute_result"
    },
    {
     "data": {
      "image/png": "[encoded data removed]",
      "text/plain": [
       "<Figure size 720x432 with 1 Axes>"
      ]
     },
     "metadata": {
      "needs_background": "light"
     },
     "output_type": "display_data"
    }
   ],
   "source": [
    "data.author.value_counts().sort_values().plot(kind='barh', figsize=(10,6))"
   ]
  },
  {
   "cell_type": "code",
   "execution_count": 4,
   "metadata": {},
   "outputs": [
    {
     "data": {
      "text/html": [
       "<div>\n",
       "<style scoped>\n",
       "    .dataframe tbody tr th:only-of-type {\n",
       "        vertical-align: middle;\n",
       "    }\n",
       "\n",
       "    .dataframe tbody tr th {\n",
       "        vertical-align: top;\n",
       "    }\n",
       "\n",
       "    .dataframe thead th {\n",
       "        text-align: right;\n",
       "    }\n",
       "</style>\n",
       "<table border=\"1\" class=\"dataframe\">\n",
       "  <thead>\n",
       "    <tr style=\"text-align: right;\">\n",
       "      <th></th>\n",
       "      <th>author</th>\n",
       "      <th>source_link</th>\n",
       "      <th>title</th>\n",
       "      <th>text</th>\n",
       "    </tr>\n",
       "  </thead>\n",
       "  <tbody>\n",
       "    <tr>\n",
       "      <th>776</th>\n",
       "      <td>vasyl-stus</td>\n",
       "      <td>https://virshi.com.ua/vasyl-stus-yak-dobre-te-...</td>\n",
       "      <td>vasyl-stus-yak-dobre-te-shho-smerti-ne-boyus-ya</td>\n",
       "      <td>Як добре те, що смерті не боюсь я\\nі не питаю,...</td>\n",
       "    </tr>\n",
       "    <tr>\n",
       "      <th>777</th>\n",
       "      <td>vasyl-stus</td>\n",
       "      <td>https://virshi.com.ua/vasyl-stus-terpy-terpy-t...</td>\n",
       "      <td>vasyl-stus-terpy-terpy-terpecz-tebe-shlifuye</td>\n",
       "      <td>Терпи, терпи — терпець тебе шліфує,\\nсталить т...</td>\n",
       "    </tr>\n",
       "    <tr>\n",
       "      <th>778</th>\n",
       "      <td>vasyl-stus</td>\n",
       "      <td>https://virshi.com.ua/vasyl-stus-bezsonnoyi-no...</td>\n",
       "      <td>vasyl-stus-bezsonnoyi-nochi</td>\n",
       "      <td>Думи визбираю, мов зерня,\\nНіби стернями колос...</td>\n",
       "    </tr>\n",
       "    <tr>\n",
       "      <th>779</th>\n",
       "      <td>vasyl-stus</td>\n",
       "      <td>https://virshi.com.ua/vasyl-stus-z-dytyachyh-s...</td>\n",
       "      <td>vasyl-stus-z-dytyachyh-spogadiv</td>\n",
       "      <td>Добридень наш — гіркаво-запахущий,\\nосотом і щ...</td>\n",
       "    </tr>\n",
       "    <tr>\n",
       "      <th>780</th>\n",
       "      <td>vasyl-stus</td>\n",
       "      <td>https://virshi.com.ua/vasyl-stus-otak-zhyvu-ya...</td>\n",
       "      <td>vasyl-stus-otak-zhyvu-yak-mavpa-sered-mavp</td>\n",
       "      <td>Отак живу: як мавпа серед мавп.\\nЧолом прогріш...</td>\n",
       "    </tr>\n",
       "  </tbody>\n",
       "</table>\n",
       "</div>"
      ],
      "text/plain": [
       "         author                                        source_link  \\\n",
       "776  vasyl-stus  https://virshi.com.ua/vasyl-stus-yak-dobre-te-...   \n",
       "777  vasyl-stus  https://virshi.com.ua/vasyl-stus-terpy-terpy-t...   \n",
       "778  vasyl-stus  https://virshi.com.ua/vasyl-stus-bezsonnoyi-no...   \n",
       "779  vasyl-stus  https://virshi.com.ua/vasyl-stus-z-dytyachyh-s...   \n",
       "780  vasyl-stus  https://virshi.com.ua/vasyl-stus-otak-zhyvu-ya...   \n",
       "\n",
       "                                               title  \\\n",
       "776  vasyl-stus-yak-dobre-te-shho-smerti-ne-boyus-ya   \n",
       "777     vasyl-stus-terpy-terpy-terpecz-tebe-shlifuye   \n",
       "778                      vasyl-stus-bezsonnoyi-nochi   \n",
       "779                  vasyl-stus-z-dytyachyh-spogadiv   \n",
       "780       vasyl-stus-otak-zhyvu-yak-mavpa-sered-mavp   \n",
       "\n",
       "                                                  text  \n",
       "776  Як добре те, що смерті не боюсь я\\nі не питаю,...  \n",
       "777  Терпи, терпи — терпець тебе шліфує,\\nсталить т...  \n",
       "778  Думи визбираю, мов зерня,\\nНіби стернями колос...  \n",
       "779  Добридень наш — гіркаво-запахущий,\\nосотом і щ...  \n",
       "780  Отак живу: як мавпа серед мавп.\\nЧолом прогріш...  "
      ]
     },
     "execution_count": 4,
     "metadata": {},
     "output_type": "execute_result"
    }
   ],
   "source": [
    "poems_by_stus = data[data.author == 'vasyl-stus']\n",
    "poems_by_stus.head()\n"
   ]
  },
  {
   "cell_type": "code",
   "execution_count": 5,
   "metadata": {},
   "outputs": [
    {
     "data": {
      "text/plain": [
       "author                                                vasyl-stus\n",
       "source_link      https://virshi.com.ua/vasyl-stus-vidlyubylosya/\n",
       "title                                   vasyl-stus-vidlyubylosya\n",
       "text           Вiдлюбилося.\\nВiдвiрилося.\\nВiдпраглося.\\nДень...\n",
       "Name: 798, dtype: object"
      ]
     },
     "execution_count": 5,
     "metadata": {},
     "output_type": "execute_result"
    }
   ],
   "source": [
    "n = np.random.randint(0, poems_by_stus.shape[0])\n",
    "poems_by_stus.iloc[n, :]"
   ]
  },
  {
   "cell_type": "code",
   "execution_count": 6,
   "metadata": {},
   "outputs": [
    {
     "name": "stdout",
     "output_type": "stream",
     "text": [
      "('Вiдлюбилося.\\n'\n",
      " 'Вiдвiрилося.\\n'\n",
      " 'Вiдпраглося.\\n'\n",
      " 'День врiвноважений,\\n'\n",
      " 'як вичовганий валун.\\n'\n",
      " 'Поступово перетворюєшся\\n'\n",
      " 'на власний архiв,\\n'\n",
      " 'дорогий,\\n'\n",
      " 'мов померлий родич.\\n'\n",
      " 'Нiчний ставок попiд соснами,\\n'\n",
      " 'книги, самота —\\n'\n",
      " 'бiльше не зворохоблюють.\\n'\n",
      " 'Свiт — мiрiадом досяжних мет.\\n'\n",
      " 'Забаганки — здiйсненнi.\\n'\n",
      " 'Простягни руку попереду —\\n'\n",
      " 'схололими пальцями\\n'\n",
      " 'вiдчуєш самого себе.\\n'\n",
      " 'Спокiй\\n'\n",
      " 'вичинений.')\n"
     ]
    }
   ],
   "source": [
    "pprint(poems_by_stus.iloc[n, -1])"
   ]
  },
  {
   "cell_type": "code",
   "execution_count": null,
   "metadata": {},
   "outputs": [],
   "source": []
  }
 ],
 "metadata": {
  "kernelspec": {
   "display_name": "Python 3 (ipykernel)",
   "language": "python",
   "name": "python3"
  },
  "language_info": {
   "codemirror_mode": {
    "name": "ipython",
    "version": 3
   },
   "file_extension": ".py",
   "mimetype": "text/x-python",
   "name": "python",
   "nbconvert_exporter": "python",
   "pygments_lexer": "ipython3",
   "version": "3.8.10"
  }
 },
 "nbformat": 4,
 "nbformat_minor": 1
}